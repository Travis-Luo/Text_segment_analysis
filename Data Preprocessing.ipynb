{
 "cells": [
  {
   "cell_type": "markdown",
   "metadata": {},
   "source": [
    "# Data Preprocessing"
   ]
  },
  {
   "cell_type": "markdown",
   "metadata": {},
   "source": [
    "## Goal:\n",
    "* Load original data\n",
    "* Split the data to train(64%), test(20%), and validation(16%)\n",
    "* Write the data to new .csv files"
   ]
  },
  {
   "cell_type": "code",
   "execution_count": 1,
   "metadata": {},
   "outputs": [],
   "source": [
    "import os\n",
    "\n",
    "DATA_PATH = os.path.join(os.getcwd(), 'data')\n",
    "RAW_DATA_PATH = os.path.join(DATA_PATH, 'raw_data')"
   ]
  },
  {
   "cell_type": "code",
   "execution_count": 2,
   "metadata": {},
   "outputs": [],
   "source": [
    "raw_train_data_path = os.path.join(RAW_DATA_PATH, 'train.csv')\n",
    "raw_test_data_path = os.path.join(RAW_DATA_PATH, 'test.csv')"
   ]
  },
  {
   "cell_type": "code",
   "execution_count": 3,
   "metadata": {},
   "outputs": [],
   "source": [
    "import pandas as pd\n",
    "\n",
    "df_raw_train = pd.read_csv(raw_train_data_path, keep_default_na=False)[['text', 'sentiment']]\n",
    "df_raw_test = pd.read_csv(raw_test_data_path, keep_default_na=False)[['text', 'sentiment']]\n",
    "df_raw = pd.concat([df_raw_train, df_raw_test])"
   ]
  },
  {
   "cell_type": "code",
   "execution_count": 5,
   "metadata": {},
   "outputs": [],
   "source": [
    "df_raw['sentiment_class'] = df_raw['sentiment'].map({'negative': 0, 'neutral': 1, 'positive': 2})"
   ]
  },
  {
   "cell_type": "code",
   "execution_count": 6,
   "metadata": {},
   "outputs": [
    {
     "name": "stdout",
     "output_type": "stream",
     "text": [
      "Total entries in the raw data: 31015\n"
     ]
    }
   ],
   "source": [
    "print(f\"Total entries in the raw data: {df_raw.shape[0]}\")"
   ]
  },
  {
   "cell_type": "code",
   "execution_count": 7,
   "metadata": {},
   "outputs": [],
   "source": [
    "from sklearn.model_selection import train_test_split\n",
    "\n",
    "RANDOM_SEED = 42\n",
    "\n",
    "df_train, df_test = train_test_split(df_raw, test_size=0.2, random_state=RANDOM_SEED)\n",
    "df_train, df_val = train_test_split(df_train, test_size=0.2, random_state=RANDOM_SEED)"
   ]
  },
  {
   "cell_type": "code",
   "execution_count": 8,
   "metadata": {},
   "outputs": [
    {
     "name": "stdout",
     "output_type": "stream",
     "text": [
      "Entries in train data: 19849\n",
      "Entries in test data: 6203\n",
      "Entries in validation data: 4963\n"
     ]
    }
   ],
   "source": [
    "print(f\"Entries in train data: {df_train.shape[0]}\")\n",
    "print(f\"Entries in test data: {df_test.shape[0]}\")\n",
    "print(f\"Entries in validation data: {df_val.shape[0]}\")"
   ]
  },
  {
   "cell_type": "code",
   "execution_count": 9,
   "metadata": {},
   "outputs": [],
   "source": [
    "train_data_path = os.path.join(DATA_PATH, 'train.csv')\n",
    "test_data_path = os.path.join(DATA_PATH, 'test.csv')\n",
    "validation_data_path = os.path.join(DATA_PATH, 'validation.csv')"
   ]
  },
  {
   "cell_type": "code",
   "execution_count": 10,
   "metadata": {},
   "outputs": [],
   "source": [
    "df_train.to_csv(train_data_path, index=False)\n",
    "df_test.to_csv(test_data_path, index=False)\n",
    "df_val.to_csv(validation_data_path, index=False)"
   ]
  }
 ],
 "metadata": {
  "kernelspec": {
   "display_name": "Python 3",
   "language": "python",
   "name": "python3"
  },
  "language_info": {
   "codemirror_mode": {
    "name": "ipython",
    "version": 3
   },
   "file_extension": ".py",
   "mimetype": "text/x-python",
   "name": "python",
   "nbconvert_exporter": "python",
   "pygments_lexer": "ipython3",
   "version": "3.7.6"
  }
 },
 "nbformat": 4,
 "nbformat_minor": 4
}
